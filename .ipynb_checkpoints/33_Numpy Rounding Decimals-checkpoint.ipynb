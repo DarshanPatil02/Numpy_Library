{
 "cells": [
  {
   "cell_type": "code",
   "execution_count": 1,
   "id": "98447305",
   "metadata": {},
   "outputs": [],
   "source": [
    "# rounding decimals: there are 5 ways of rounding off the decimals in numpy: truncation, fix, rounding, floor, ceil."
   ]
  },
  {
   "cell_type": "code",
   "execution_count": 2,
   "id": "8db66930",
   "metadata": {},
   "outputs": [
    {
     "name": "stdout",
     "output_type": "stream",
     "text": [
      "[-3.  3.]\n"
     ]
    }
   ],
   "source": [
    "# truncation: trunc() and fix()\n",
    "# here we are truncating the below array, these command remove the decimals and return the float number closest to zero.\n",
    "import numpy as np\n",
    "arr = np.trunc([-3.1666, 3.6667])\n",
    "print(arr)"
   ]
  },
  {
   "cell_type": "code",
   "execution_count": 3,
   "id": "f432231f",
   "metadata": {},
   "outputs": [
    {
     "name": "stdout",
     "output_type": "stream",
     "text": [
      "[-3.  3.]\n"
     ]
    }
   ],
   "source": [
    "# fix() example\n",
    "import numpy as np\n",
    "arr = np.fix([-3.1666, 3.6667])\n",
    "print(arr)"
   ]
  },
  {
   "cell_type": "code",
   "execution_count": 4,
   "id": "fa6f8dde",
   "metadata": {},
   "outputs": [
    {
     "name": "stdout",
     "output_type": "stream",
     "text": [
      "3.17\n"
     ]
    }
   ],
   "source": [
    "# rounding: the around() function increments preceding digit or decimal by nearest to 1: if n>5 =1 or n<5 =0.\n",
    "import numpy as np\n",
    "arr = np.around(3.1666, 2)\n",
    "print(arr)"
   ]
  },
  {
   "cell_type": "code",
   "execution_count": 5,
   "id": "bb45ade0",
   "metadata": {},
   "outputs": [
    {
     "name": "stdout",
     "output_type": "stream",
     "text": [
      "[-4.  3.]\n"
     ]
    }
   ],
   "source": [
    "# floor() - round off decimals to the lower integer.\n",
    "import numpy as np\n",
    "arr = np.floor([-3.1666, 3.6667])\n",
    "print(arr)"
   ]
  },
  {
   "cell_type": "code",
   "execution_count": 6,
   "id": "9cc77c8c",
   "metadata": {},
   "outputs": [
    {
     "name": "stdout",
     "output_type": "stream",
     "text": [
      "[-3.  4.]\n"
     ]
    }
   ],
   "source": [
    "# ceil(): round off decimals to the upper integer.\n",
    "import numpy as np\n",
    "arr = np.ceil([-3.1666, 3.6667])\n",
    "print(arr)"
   ]
  }
 ],
 "metadata": {
  "kernelspec": {
   "display_name": "Python 3 (ipykernel)",
   "language": "python",
   "name": "python3"
  },
  "language_info": {
   "codemirror_mode": {
    "name": "ipython",
    "version": 3
   },
   "file_extension": ".py",
   "mimetype": "text/x-python",
   "name": "python",
   "nbconvert_exporter": "python",
   "pygments_lexer": "ipython3",
   "version": "3.9.13"
  }
 },
 "nbformat": 4,
 "nbformat_minor": 5
}
