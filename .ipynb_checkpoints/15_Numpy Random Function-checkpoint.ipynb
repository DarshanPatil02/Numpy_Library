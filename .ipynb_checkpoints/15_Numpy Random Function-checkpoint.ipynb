{
 "cells": [
  {
   "cell_type": "code",
   "execution_count": null,
   "id": "7ce81f37",
   "metadata": {},
   "outputs": [],
   "source": [
    "# Random meaning - something that cannot be predicted logically.\n",
    "# Now we will generate a random number from 0 to 100\n",
    "from numpy import random \n",
    "arr = random.randint(100)\n",
    "print(arr) "
   ]
  },
  {
   "cell_type": "code",
   "execution_count": null,
   "id": "79767c6a",
   "metadata": {},
   "outputs": [],
   "source": [
    "# You can also genetrate float() via rand() from 0 to 1\n",
    "from numpy import random \n",
    "arr = random.rand()\n",
    "print(arr) "
   ]
  },
  {
   "cell_type": "code",
   "execution_count": null,
   "id": "2dfe713b",
   "metadata": {},
   "outputs": [],
   "source": [
    "# You can also generate random Array.\n",
    "# we will generate a 1-D array containing 5 random int from 0 to 100:\n",
    "from numpy import random \n",
    "arr = random.randint(100, size=(5))\n",
    "print(arr) "
   ]
  },
  {
   "cell_type": "code",
   "execution_count": null,
   "id": "b5e9e070",
   "metadata": {},
   "outputs": [],
   "source": [
    "# You can also generate random Array.\n",
    "# we will generate a 2-D array with 3 rows, each row  containing 5 random int from 0 to 100:\n",
    "from numpy import random \n",
    "arr = random.randint(100, size=(3, 5))\n",
    "print(arr) "
   ]
  },
  {
   "cell_type": "code",
   "execution_count": null,
   "id": "0c8c3406",
   "metadata": {},
   "outputs": [],
   "source": [
    "# You can also generate random Array.\n",
    "# we will generate a 1-D array containing 5 random float:\n",
    "from numpy import random \n",
    "arr = random.rand(5)\n",
    "print(arr) "
   ]
  },
  {
   "cell_type": "code",
   "execution_count": null,
   "id": "ffcb5dd0",
   "metadata": {},
   "outputs": [],
   "source": [
    "# You can also generate random Array.\n",
    "# we will generate a 2-D array with 3 rows, each containing 5 random float:\n",
    "from numpy import random \n",
    "arr = random.rand(3, 5)\n",
    "print(arr) "
   ]
  },
  {
   "cell_type": "code",
   "execution_count": null,
   "id": "9d9074c5",
   "metadata": {},
   "outputs": [],
   "source": [
    "# you can also generate random numbers from an array\n",
    "# choice()\n",
    "\n",
    "from numpy import random \n",
    "arr = random.choice([3,5,7,9,1,4,6])\n",
    "print(arr) "
   ]
  },
  {
   "cell_type": "code",
   "execution_count": null,
   "id": "267ac50a",
   "metadata": {},
   "outputs": [],
   "source": [
    "# you can also generate random numbers from an 2-D array\n",
    "# choice()\n",
    "\n",
    "from numpy import random \n",
    "arr = random.choice([3,5,7,9,1,4,6], size=(3, 5))\n",
    "print(arr) "
   ]
  }
 ],
 "metadata": {
  "kernelspec": {
   "display_name": "Python 3 (ipykernel)",
   "language": "python",
   "name": "python3"
  },
  "language_info": {
   "codemirror_mode": {
    "name": "ipython",
    "version": 3
   },
   "file_extension": ".py",
   "mimetype": "text/x-python",
   "name": "python",
   "nbconvert_exporter": "python",
   "pygments_lexer": "ipython3",
   "version": "3.9.13"
  }
 },
 "nbformat": 4,
 "nbformat_minor": 5
}
