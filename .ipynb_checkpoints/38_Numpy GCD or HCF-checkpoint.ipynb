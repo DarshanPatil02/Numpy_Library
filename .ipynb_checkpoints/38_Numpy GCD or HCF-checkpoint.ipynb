{
 "cells": [
  {
   "cell_type": "code",
   "execution_count": 3,
   "id": "e22b1688",
   "metadata": {},
   "outputs": [],
   "source": [
    "# finding GCD(Gretest common denominator), also known as HCF(Highest Common Factor)"
   ]
  },
  {
   "cell_type": "code",
   "execution_count": 4,
   "id": "4d51fa35",
   "metadata": {},
   "outputs": [
    {
     "name": "stdout",
     "output_type": "stream",
     "text": [
      "3\n"
     ]
    }
   ],
   "source": [
    "# here wew will find the HCF of the below 2 numbers:\n",
    "import numpy as np\n",
    "arr1 = 6\n",
    "arr2 = 9\n",
    "arrnew = np.gcd(arr1, arr2)\n",
    "print(arrnew) # answer will be 3 because that is the highest number  and both umber can be divided by (6/3=2 and 9/3=3)"
   ]
  },
  {
   "cell_type": "code",
   "execution_count": 2,
   "id": "a85c6812",
   "metadata": {},
   "outputs": [
    {
     "name": "stdout",
     "output_type": "stream",
     "text": [
      "4\n"
     ]
    }
   ],
   "source": [
    "# finding the GCD in an array\n",
    "# the reduce() method will use the ufunc, in this case the gcd() function on each elemtn and it will reduce the array by 1 dimension.\n",
    "import numpy as np\n",
    "arr = np.array([20,8,32,16,36])\n",
    "arrnew = np.gcd.reduce(arr)\n",
    "print(arrnew)\n",
    "# it will return 4 because 4 is the highest number of all values that can be divided in between array.\n"
   ]
  }
 ],
 "metadata": {
  "kernelspec": {
   "display_name": "Python 3 (ipykernel)",
   "language": "python",
   "name": "python3"
  },
  "language_info": {
   "codemirror_mode": {
    "name": "ipython",
    "version": 3
   },
   "file_extension": ".py",
   "mimetype": "text/x-python",
   "name": "python",
   "nbconvert_exporter": "python",
   "pygments_lexer": "ipython3",
   "version": "3.9.13"
  }
 },
 "nbformat": 4,
 "nbformat_minor": 5
}
