{
 "cells": [
  {
   "cell_type": "code",
   "execution_count": null,
   "id": "5e140043",
   "metadata": {},
   "outputs": [],
   "source": [
    "# products: use prod() function.\n",
    "# here we will find the product of the element of the below array:\n",
    "import numpy as np\n",
    "arr = np.array([1,2,3,4]) # 1*2*3*4 = 24\n",
    "arrnew = np.prod(arr)\n",
    "print(arrnew)"
   ]
  },
  {
   "cell_type": "code",
   "execution_count": null,
   "id": "e0c9af31",
   "metadata": {},
   "outputs": [],
   "source": [
    "# here we will find the product of elemets in 2 different array:\n",
    "import numpy as np\n",
    "arr1 = np.array([1,2,3,4])\n",
    "arr2 = np.array([5,6,7,8])\n",
    "arrnew = np.prod([arr1, arr2]) # 1*2*3*4*5*6*7*8 = 40320\n",
    "print(arrnew)"
   ]
  },
  {
   "cell_type": "code",
   "execution_count": null,
   "id": "7414ffda",
   "metadata": {},
   "outputs": [],
   "source": [
    "# product over an axis\n",
    "import numpy as np\n",
    "arr1 = np.array([1,2,3,4])\n",
    "arr2 = np.array([5,6,7,8])\n",
    "arrnew = np.prod([arr1, arr2], axis=1) \n",
    "print(arrnew)"
   ]
  },
  {
   "cell_type": "code",
   "execution_count": null,
   "id": "658475e5",
   "metadata": {},
   "outputs": [],
   "source": [
    "# cummulative product:\n",
    "# example  the partial product of [1,2,3,4] is [1,1*2,1*2*3,1*2*3*4] = [1,2,6,24] represented by cumprod().\n",
    "import numpy as np\n",
    "arr = np.array([5,6,7,8])\n",
    "arrnew = np.cumprod(arr)\n",
    "print(arrnew)"
   ]
  }
 ],
 "metadata": {
  "kernelspec": {
   "display_name": "Python 3 (ipykernel)",
   "language": "python",
   "name": "python3"
  },
  "language_info": {
   "codemirror_mode": {
    "name": "ipython",
    "version": 3
   },
   "file_extension": ".py",
   "mimetype": "text/x-python",
   "name": "python",
   "nbconvert_exporter": "python",
   "pygments_lexer": "ipython3",
   "version": "3.9.13"
  }
 },
 "nbformat": 4,
 "nbformat_minor": 5
}
