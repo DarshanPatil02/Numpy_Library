{
 "cells": [
  {
   "cell_type": "code",
   "execution_count": 1,
   "id": "3c6de74c",
   "metadata": {},
   "outputs": [
    {
     "name": "stdout",
     "output_type": "stream",
     "text": [
      "[41 43]\n"
     ]
    }
   ],
   "source": [
    "# Getting some elements out of an existing array and creating a new array is called filtering.\n",
    "# A boolean index list is a list ofboolean corresponding to indexes in the array. (True and False)\n",
    "# create an array from the element on index 0 to 2:\n",
    "import numpy as np\n",
    "arr = np.array([41,42,43,44])\n",
    "arr1 = [True, False, True, False]\n",
    "finalarr = arr[arr1]\n",
    "print(finalarr)"
   ]
  },
  {
   "cell_type": "code",
   "execution_count": 2,
   "id": "67965891",
   "metadata": {},
   "outputs": [
    {
     "name": "stdout",
     "output_type": "stream",
     "text": [
      "[False, False, True, True]\n",
      "[43 44]\n"
     ]
    }
   ],
   "source": [
    "# now we will create a filter array\n",
    "# that will return only values higher than 42.\n",
    "import numpy as np\n",
    "arr = np.array([41,42,43,44])\n",
    "emptyarr = []\n",
    "for element in arr:\n",
    "    if element > 42:\n",
    "        emptyarr.append(True)\n",
    "    else:\n",
    "        emptyarr.append(False)\n",
    "arrnew = arr[emptyarr]\n",
    "print(emptyarr)\n",
    "print(arrnew)"
   ]
  },
  {
   "cell_type": "code",
   "execution_count": 3,
   "id": "a686e17b",
   "metadata": {},
   "outputs": [
    {
     "name": "stdout",
     "output_type": "stream",
     "text": [
      "[False, True, False, True, False, True, False]\n",
      "[2 4 6]\n"
     ]
    }
   ],
   "source": [
    "# Create a filter array that will return only even elements from the original array.\n",
    "import numpy as np\n",
    "arr = np.array([1,2,3,4,5,6,7])\n",
    "arrempty = []\n",
    "for i in arr:\n",
    "    if i%2 == 0:\n",
    "        arrempty.append(True)\n",
    "    else:\n",
    "        arrempty.append(False)\n",
    "arrnew = arr[arrempty]\n",
    "print(arrempty)\n",
    "print(arrnew)"
   ]
  },
  {
   "cell_type": "code",
   "execution_count": 4,
   "id": "4185f245",
   "metadata": {},
   "outputs": [
    {
     "name": "stdout",
     "output_type": "stream",
     "text": [
      "[False False  True  True]\n",
      "[43 44]\n"
     ]
    }
   ],
   "source": [
    "# Yes, you can also create filter directly from array\n",
    "# that will return only values higher than 42.\n",
    "import numpy as np\n",
    "arr = np.array([41,42,43,44])\n",
    "arrempty = arr > 42\n",
    "arrnew = arr[arrempty]\n",
    "print(arrempty)\n",
    "print(arrnew)"
   ]
  },
  {
   "cell_type": "code",
   "execution_count": 5,
   "id": "fa6de435",
   "metadata": {},
   "outputs": [
    {
     "name": "stdout",
     "output_type": "stream",
     "text": [
      "[False  True False  True False  True False]\n",
      "[2 4 6]\n"
     ]
    }
   ],
   "source": [
    "# Yes, you can also create filter directly from array\n",
    "# Create a filter array that will return only even elements from the original array.\n",
    "import numpy as np\n",
    "arr = np.array([1,2,3,4,5,6,7])\n",
    "arrempty = arr % 2 == 0\n",
    "arrnew = arr[arrempty]\n",
    "print(arrempty)\n",
    "print(arrnew)"
   ]
  }
 ],
 "metadata": {
  "kernelspec": {
   "display_name": "Python 3 (ipykernel)",
   "language": "python",
   "name": "python3"
  },
  "language_info": {
   "codemirror_mode": {
    "name": "ipython",
    "version": 3
   },
   "file_extension": ".py",
   "mimetype": "text/x-python",
   "name": "python",
   "nbconvert_exporter": "python",
   "pygments_lexer": "ipython3",
   "version": "3.9.13"
  }
 },
 "nbformat": 4,
 "nbformat_minor": 5
}
