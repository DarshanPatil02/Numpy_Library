{
 "cells": [
  {
   "cell_type": "code",
   "execution_count": 2,
   "id": "1fed611a",
   "metadata": {},
   "outputs": [],
   "source": [
    "# Iterating Array - means going through the elements one by one or step by step. like For loop."
   ]
  },
  {
   "cell_type": "code",
   "execution_count": 3,
   "id": "92127462",
   "metadata": {},
   "outputs": [
    {
     "name": "stdout",
     "output_type": "stream",
     "text": [
      "1\n",
      "2\n",
      "3\n"
     ]
    }
   ],
   "source": [
    "# Iterate the element of 1-D\n",
    "import numpy as np\n",
    "sharad = np.array([1,2,3])\n",
    "for i in sharad:\n",
    "    print(i)"
   ]
  },
  {
   "cell_type": "code",
   "execution_count": 4,
   "id": "ddad867e",
   "metadata": {},
   "outputs": [
    {
     "name": "stdout",
     "output_type": "stream",
     "text": [
      "[1 2 3]\n",
      "[4 5 6]\n"
     ]
    }
   ],
   "source": [
    "# Iterate 2-D\n",
    "import numpy as np\n",
    "sharad = np.array([[1,2,3], [4,5,6]])\n",
    "for i in sharad:\n",
    "    print(i)"
   ]
  },
  {
   "cell_type": "code",
   "execution_count": 5,
   "id": "4780b03f",
   "metadata": {},
   "outputs": [
    {
     "name": "stdout",
     "output_type": "stream",
     "text": [
      "1\n",
      "2\n",
      "3\n",
      "4\n",
      "5\n",
      "6\n"
     ]
    }
   ],
   "source": [
    "# Iterate on each scalar element of the 2-D\n",
    "import numpy as np\n",
    "sharad = np.array([[1,2,3], [4,5,6]])\n",
    "for i in sharad:\n",
    "    for a in i:\n",
    "        print(a)"
   ]
  },
  {
   "cell_type": "code",
   "execution_count": 6,
   "id": "19b56113",
   "metadata": {},
   "outputs": [
    {
     "name": "stdout",
     "output_type": "stream",
     "text": [
      "1\n",
      "2\n",
      "3\n",
      "4\n",
      "5\n",
      "6\n",
      "7\n",
      "8\n",
      "9\n",
      "10\n",
      "11\n",
      "12\n"
     ]
    }
   ],
   "source": [
    "# Iterate 3-D\n",
    "import numpy as np\n",
    "sharad = np.array([[[1,2,3], [4,5,6], [7,8,9], [10,11,12]]])\n",
    "for i in sharad:\n",
    "    for a in i:\n",
    "        for b in a:\n",
    "            print(b)"
   ]
  },
  {
   "cell_type": "code",
   "execution_count": 7,
   "id": "e6d26aa5",
   "metadata": {},
   "outputs": [
    {
     "name": "stdout",
     "output_type": "stream",
     "text": [
      "1\n",
      "2\n",
      "3\n",
      "4\n",
      "5\n",
      "6\n",
      "7\n",
      "8\n"
     ]
    }
   ],
   "source": [
    "# Iterating arrays using the nditer() function.\n",
    "# Now we will Iterate on each scalar element.\n",
    "\n",
    "import numpy as np\n",
    "sharad = np.array([[[1,2], [3,4], [5,6], [7,8]]])\n",
    "for i in np.nditer(sharad):\n",
    "    print(i)\n"
   ]
  },
  {
   "cell_type": "code",
   "execution_count": 8,
   "id": "fee41198",
   "metadata": {},
   "outputs": [
    {
     "name": "stdout",
     "output_type": "stream",
     "text": [
      "1\n",
      "3\n",
      "5\n",
      "7\n"
     ]
    }
   ],
   "source": [
    "# Now we will Iterate with different step sizes.\n",
    "import numpy as np\n",
    "sharad = np.array([[1,2,3,4], [5,6,7,8]])\n",
    "for i in np.nditer(sharad[:, ::2]):\n",
    "    print(i)"
   ]
  }
 ],
 "metadata": {
  "kernelspec": {
   "display_name": "Python 3 (ipykernel)",
   "language": "python",
   "name": "python3"
  },
  "language_info": {
   "codemirror_mode": {
    "name": "ipython",
    "version": 3
   },
   "file_extension": ".py",
   "mimetype": "text/x-python",
   "name": "python",
   "nbconvert_exporter": "python",
   "pygments_lexer": "ipython3",
   "version": "3.9.13"
  }
 },
 "nbformat": 4,
 "nbformat_minor": 5
}
