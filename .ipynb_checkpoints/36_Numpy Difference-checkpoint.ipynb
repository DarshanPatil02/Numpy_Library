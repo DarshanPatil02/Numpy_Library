{
 "cells": [
  {
   "cell_type": "code",
   "execution_count": 1,
   "id": "66bd2b19",
   "metadata": {},
   "outputs": [
    {
     "name": "stdout",
     "output_type": "stream",
     "text": [
      "[  5  10 -20]\n"
     ]
    }
   ],
   "source": [
    "# difference: use diff() function for finding the difference\n",
    "# example: [1,2,3,4],  the deiscreate difference of this would be [2-1, 3-2, 4-3] = [1,1,1] by using diff()\n",
    "import numpy as np\n",
    "arr = np.array([10,15,25,5]) # [5, 10, -20] because 15-10=5, 25-15=10 and 5-25=-20\n",
    "arrnew = np.diff(arr)\n",
    "print(arrnew)"
   ]
  }
 ],
 "metadata": {
  "kernelspec": {
   "display_name": "Python 3 (ipykernel)",
   "language": "python",
   "name": "python3"
  },
  "language_info": {
   "codemirror_mode": {
    "name": "ipython",
    "version": 3
   },
   "file_extension": ".py",
   "mimetype": "text/x-python",
   "name": "python",
   "nbconvert_exporter": "python",
   "pygments_lexer": "ipython3",
   "version": "3.9.13"
  }
 },
 "nbformat": 4,
 "nbformat_minor": 5
}
