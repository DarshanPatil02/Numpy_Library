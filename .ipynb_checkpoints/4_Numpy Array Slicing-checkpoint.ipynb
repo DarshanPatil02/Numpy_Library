{
 "cells": [
  {
   "cell_type": "code",
   "execution_count": 1,
   "id": "66985c34",
   "metadata": {},
   "outputs": [],
   "source": [
    "# slicing array - slicing in python means taking elemetns from one given index to another index.\n",
    "# [start:end], [start:end:step]"
   ]
  },
  {
   "cell_type": "code",
   "execution_count": 2,
   "id": "a4bd1e8b",
   "metadata": {},
   "outputs": [
    {
     "name": "stdout",
     "output_type": "stream",
     "text": [
      "[2 3 4 5]\n"
     ]
    }
   ],
   "source": [
    "# now we will slice an element from 1 to 5 :\n",
    "import numpy as np\n",
    "sharad = np.array([1, 2, 3, 4, 5, 6, 7, 8, 9])\n",
    "print(sharad[1:5])"
   ]
  },
  {
   "cell_type": "code",
   "execution_count": 3,
   "id": "b2e92b85",
   "metadata": {},
   "outputs": [
    {
     "name": "stdout",
     "output_type": "stream",
     "text": [
      "[5 6 7 8 9]\n"
     ]
    }
   ],
   "source": [
    "# now we will slice from index 4 to the end value\n",
    "import numpy as np\n",
    "sharad = np.array([1, 2, 3, 4, 5, 6, 7, 8, 9])\n",
    "print(sharad[4:])"
   ]
  },
  {
   "cell_type": "code",
   "execution_count": 4,
   "id": "f7d38a79",
   "metadata": {},
   "outputs": [
    {
     "name": "stdout",
     "output_type": "stream",
     "text": [
      "[1 2 3 4]\n"
     ]
    }
   ],
   "source": [
    "# now we will slice the element from the begining to index 4\n",
    "import numpy as np\n",
    "sharad = np.array([1, 2, 3, 4, 5, 6, 7, 8, 9])\n",
    "print(sharad[:4])"
   ]
  },
  {
   "cell_type": "code",
   "execution_count": 5,
   "id": "d4f4aa06",
   "metadata": {},
   "outputs": [
    {
     "name": "stdout",
     "output_type": "stream",
     "text": [
      "[5 6]\n"
     ]
    }
   ],
   "source": [
    "# Negative Slicing - index 3 to end\n",
    "import numpy as np\n",
    "sharad = np.array([1, 2, 3, 4, 5, 6, 7])\n",
    "print(sharad[-3:-1])"
   ]
  },
  {
   "cell_type": "code",
   "execution_count": 6,
   "id": "684b7384",
   "metadata": {},
   "outputs": [
    {
     "name": "stdout",
     "output_type": "stream",
     "text": [
      "[2 4]\n"
     ]
    }
   ],
   "source": [
    "# Step: you will use step value to determine the step of the slicing\n",
    "# return every other value from index 1 to 5\n",
    "import numpy as np\n",
    "sharad = np.array([1, 2, 3, 4, 5, 6, 7])\n",
    "print(sharad[1:5:2])"
   ]
  },
  {
   "cell_type": "code",
   "execution_count": 7,
   "id": "d0addf1a",
   "metadata": {},
   "outputs": [
    {
     "name": "stdout",
     "output_type": "stream",
     "text": [
      "[1 3 5 7 9]\n"
     ]
    }
   ],
   "source": [
    "# now return every other number from the entire array\n",
    "import numpy as np\n",
    "sharad = np.array([1, 2, 3, 4, 5, 6, 7, 8, 9])\n",
    "print(sharad[::2])"
   ]
  },
  {
   "cell_type": "code",
   "execution_count": 8,
   "id": "abfe78ca",
   "metadata": {},
   "outputs": [
    {
     "name": "stdout",
     "output_type": "stream",
     "text": [
      "[7 8 9]\n"
     ]
    }
   ],
   "source": [
    "# slicing 2-D Array: print 7,8,9\n",
    "import numpy as np\n",
    "sharad = np.array([[1,2,3,4,5], [6,7,8,9,10]])\n",
    "print(sharad[1,1:4])"
   ]
  },
  {
   "cell_type": "code",
   "execution_count": 9,
   "id": "101666c8",
   "metadata": {},
   "outputs": [
    {
     "name": "stdout",
     "output_type": "stream",
     "text": [
      "[3 8]\n"
     ]
    }
   ],
   "source": [
    "# another example\n",
    "import numpy as np\n",
    "sharad = np.array([[1,2,3,4,5], [6,7,8,9,10]])\n",
    "print(sharad[0:2, 2])"
   ]
  },
  {
   "cell_type": "code",
   "execution_count": 10,
   "id": "c2e6f636",
   "metadata": {},
   "outputs": [
    {
     "name": "stdout",
     "output_type": "stream",
     "text": [
      "[[2 3 4]\n",
      " [7 8 9]]\n"
     ]
    }
   ],
   "source": [
    "# another example tough 2-D - print from both, index 1:4\n",
    "import numpy as np\n",
    "sharad = np.array([[1,2,3,4,5], [6,7,8,9,10]])\n",
    "\n",
    "print(sharad[0:2, 1:4])\n"
   ]
  }
 ],
 "metadata": {
  "kernelspec": {
   "display_name": "Python 3 (ipykernel)",
   "language": "python",
   "name": "python3"
  },
  "language_info": {
   "codemirror_mode": {
    "name": "ipython",
    "version": 3
   },
   "file_extension": ".py",
   "mimetype": "text/x-python",
   "name": "python",
   "nbconvert_exporter": "python",
   "pygments_lexer": "ipython3",
   "version": "3.9.13"
  }
 },
 "nbformat": 4,
 "nbformat_minor": 5
}
