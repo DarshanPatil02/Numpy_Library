{
 "cells": [
  {
   "cell_type": "code",
   "execution_count": 1,
   "id": "a1f60287",
   "metadata": {},
   "outputs": [],
   "source": [
    "# summations: difference: addition is done between 2 arguments whereas summation happens over n elements."
   ]
  },
  {
   "cell_type": "code",
   "execution_count": 2,
   "id": "84dcdb8c",
   "metadata": {},
   "outputs": [
    {
     "name": "stdout",
     "output_type": "stream",
     "text": [
      "[2 4 6]\n"
     ]
    }
   ],
   "source": [
    "# adding the 2 array.\n",
    "import numpy as np\n",
    "arr1 = np.array([1,2,3])\n",
    "arr2 = np.array([1,2,3])\n",
    "arrnew = np.add(arr1, arr2)\n",
    "print(arrnew)"
   ]
  },
  {
   "cell_type": "code",
   "execution_count": 3,
   "id": "0dbd8935",
   "metadata": {},
   "outputs": [
    {
     "name": "stdout",
     "output_type": "stream",
     "text": [
      "12\n"
     ]
    }
   ],
   "source": [
    "# sum the values in 2 array:\n",
    "import numpy as np\n",
    "arr1 = np.array([1,2,3])\n",
    "arr2 = np.array([1,2,3])\n",
    "arrnew = np.sum([arr1, arr2])\n",
    "print(arrnew)"
   ]
  },
  {
   "cell_type": "code",
   "execution_count": 4,
   "id": "24acfc4d",
   "metadata": {},
   "outputs": [
    {
     "name": "stdout",
     "output_type": "stream",
     "text": [
      "[6 6]\n"
     ]
    }
   ],
   "source": [
    "# summation over an axis: if you specify axis=1, numpy will sum the number in each array.\n",
    "\n",
    "import numpy as np\n",
    "arr1 = np.array([1,2,3])\n",
    "arr2 = np.array([1,2,3])\n",
    "arrnew = np.sum([arr1, arr2], axis=1)\n",
    "print(arrnew)"
   ]
  },
  {
   "cell_type": "code",
   "execution_count": 5,
   "id": "a62dd2c4",
   "metadata": {},
   "outputs": [
    {
     "name": "stdout",
     "output_type": "stream",
     "text": [
      "[1 3 6]\n"
     ]
    }
   ],
   "source": [
    "# cummulative sum: means partially adding thr element in array.\n",
    "# example: [1,2,3,4] would be [1, 1+2, 1+2+3, 1+2+3+4] = [1,3,6,10] represent by cumsum()\n",
    "import numpy as np\n",
    "arr = np.array([1,2,3])\n",
    "arrnew = np.cumsum(arr)\n",
    "print(arrnew)"
   ]
  }
 ],
 "metadata": {
  "kernelspec": {
   "display_name": "Python 3 (ipykernel)",
   "language": "python",
   "name": "python3"
  },
  "language_info": {
   "codemirror_mode": {
    "name": "ipython",
    "version": 3
   },
   "file_extension": ".py",
   "mimetype": "text/x-python",
   "name": "python",
   "nbconvert_exporter": "python",
   "pygments_lexer": "ipython3",
   "version": "3.9.13"
  }
 },
 "nbformat": 4,
 "nbformat_minor": 5
}
