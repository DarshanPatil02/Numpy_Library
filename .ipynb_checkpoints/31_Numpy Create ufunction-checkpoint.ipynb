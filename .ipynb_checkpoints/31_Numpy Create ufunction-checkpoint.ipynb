{
 "cells": [
  {
   "cell_type": "raw",
   "id": "fc2d7fdc",
   "metadata": {},
   "source": [
    "To create your own ufunc, you have to define a function, like you do in normal function in python, then you add it to the numpy function with frompyfunc() method.\n",
    "Arguments of frompyfunc(): function, inputs, outputs"
   ]
  },
  {
   "cell_type": "code",
   "execution_count": 11,
   "id": "60bd6cfd",
   "metadata": {},
   "outputs": [
    {
     "name": "stdout",
     "output_type": "stream",
     "text": [
      "[6 8 10 12]\n"
     ]
    }
   ],
   "source": [
    "# Create your own ufunc for addition:\n",
    "import numpy as np\n",
    "def myadd(x,y):\n",
    "    return x+y\n",
    "\n",
    "myadd = np.frompyfunc(myadd, 2, 1)\n",
    "print(myadd([1,2,3,4], [5,6,7,8]))"
   ]
  },
  {
   "cell_type": "code",
   "execution_count": 12,
   "id": "0c33cd9c",
   "metadata": {},
   "outputs": [
    {
     "name": "stdout",
     "output_type": "stream",
     "text": [
      "<class 'numpy.ufunc'>\n"
     ]
    }
   ],
   "source": [
    "# checking if this function in ufunc or not:\n",
    "import numpy as np\n",
    "print(type(np.add))"
   ]
  },
  {
   "cell_type": "code",
   "execution_count": 13,
   "id": "144da8ed",
   "metadata": {},
   "outputs": [
    {
     "name": "stdout",
     "output_type": "stream",
     "text": [
      "<class 'function'>\n"
     ]
    }
   ],
   "source": [
    "# concatenate()\n",
    "import numpy as np\n",
    "print(type(np.concatenate))"
   ]
  },
  {
   "cell_type": "code",
   "execution_count": 14,
   "id": "b25f3374",
   "metadata": {
    "scrolled": true
   },
   "outputs": [],
   "source": [
    "# what if ufunc does not exist: (please comment it while running the codes) \n",
    "# import numpy as np\n",
    "# print(type(np.sjafdfdf))"
   ]
  },
  {
   "cell_type": "code",
   "execution_count": 15,
   "id": "4ae3ad93",
   "metadata": {},
   "outputs": [
    {
     "name": "stdout",
     "output_type": "stream",
     "text": [
      "yes, this function is ufunc\n"
     ]
    }
   ],
   "source": [
    "# use an if statement to check if the functionis  a ufunc or not.\n",
    "import numpy as np\n",
    "if type(np.add) == np.ufunc:\n",
    "    print('yes, this function is ufunc')\n",
    "else:\n",
    "    print('this function is not aan ufunc')"
   ]
  }
 ],
 "metadata": {
  "kernelspec": {
   "display_name": "Python 3 (ipykernel)",
   "language": "python",
   "name": "python3"
  },
  "language_info": {
   "codemirror_mode": {
    "name": "ipython",
    "version": 3
   },
   "file_extension": ".py",
   "mimetype": "text/x-python",
   "name": "python",
   "nbconvert_exporter": "python",
   "pygments_lexer": "ipython3",
   "version": "3.9.13"
  }
 },
 "nbformat": 4,
 "nbformat_minor": 5
}
