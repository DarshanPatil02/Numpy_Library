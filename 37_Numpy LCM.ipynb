{
 "cells": [
  {
   "cell_type": "code",
   "execution_count": 1,
   "id": "024933c4",
   "metadata": {},
   "outputs": [
    {
     "name": "stdout",
     "output_type": "stream",
     "text": [
      "12\n"
     ]
    }
   ],
   "source": [
    "# finding LCM(Lowest Common Multiple)\n",
    "# here we will find the LCM of the 2 numbers:\n",
    "\n",
    "import numpy as np\n",
    "arr1 = 4\n",
    "arr2 = 6\n",
    "arrnew = np.lcm(arr1, arr2)\n",
    "print(arrnew)\n",
    "# the answers of the above is 12 because the LCM of both numbers (4*3=12 and 6*2=12) "
   ]
  },
  {
   "cell_type": "code",
   "execution_count": 2,
   "id": "5f24a405",
   "metadata": {},
   "outputs": [
    {
     "name": "stdout",
     "output_type": "stream",
     "text": [
      "18\n"
     ]
    }
   ],
   "source": [
    "# finding the LCM in array:\n",
    "import numpy as np\n",
    "arr = np.array([3,6,9])\n",
    "arrnew = np.lcm.reduce(arr) # the reduce() method will use the ufunc, in this case the lcm() function on each elemtn and it will reduce the array by 1 dimension.\n",
    "print(arrnew)"
   ]
  },
  {
   "cell_type": "code",
   "execution_count": 3,
   "id": "e52d496f",
   "metadata": {},
   "outputs": [
    {
     "name": "stdout",
     "output_type": "stream",
     "text": [
      "2520\n"
     ]
    }
   ],
   "source": [
    "# here we will find the LCM of all of an array where the array contains all integers from 1 to 10.\n",
    "import numpy as np\n",
    "arr = np.arange(1,11)\n",
    "arrnew = np.lcm.reduce(arr)\n",
    "print(arrnew)"
   ]
  }
 ],
 "metadata": {
  "kernelspec": {
   "display_name": "Python 3 (ipykernel)",
   "language": "python",
   "name": "python3"
  },
  "language_info": {
   "codemirror_mode": {
    "name": "ipython",
    "version": 3
   },
   "file_extension": ".py",
   "mimetype": "text/x-python",
   "name": "python",
   "nbconvert_exporter": "python",
   "pygments_lexer": "ipython3",
   "version": "3.9.13"
  }
 },
 "nbformat": 4,
 "nbformat_minor": 5
}
