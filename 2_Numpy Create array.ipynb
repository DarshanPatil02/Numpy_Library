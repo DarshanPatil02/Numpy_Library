{
 "cells": [
  {
   "cell_type": "code",
   "execution_count": 1,
   "id": "e4bab2a3",
   "metadata": {},
   "outputs": [
    {
     "name": "stdout",
     "output_type": "stream",
     "text": [
      "[1 2 3 4 5]\n",
      "<class 'numpy.ndarray'>\n"
     ]
    }
   ],
   "source": [
    "# Now we will create a numpy ndarray object\n",
    "# the array object in numpy is call ndarray\n",
    "# array()\n",
    "\n",
    "import numpy as np\n",
    "x = np.array([1, 2, 3, 4, 5])\n",
    "print(x)\n",
    "print(type(x))\n"
   ]
  },
  {
   "cell_type": "code",
   "execution_count": 2,
   "id": "5ac17ce3",
   "metadata": {},
   "outputs": [
    {
     "name": "stdout",
     "output_type": "stream",
     "text": [
      "[1 2 3 4 5]\n",
      "<class 'numpy.ndarray'>\n"
     ]
    }
   ],
   "source": [
    "# we can also pass a list , tuple or any array like object with array(). and it will be converted to ndarray.\n",
    "import numpy as np\n",
    "y = np.array((1, 2, 3, 4, 5))\n",
    "print(x)\n",
    "print(type(x))\n"
   ]
  },
  {
   "cell_type": "code",
   "execution_count": 3,
   "id": "f69f7177",
   "metadata": {},
   "outputs": [],
   "source": [
    "# Dimensions in Arrays - a dimensions in arrays is one level of array depth(nested array)\n",
    "\n",
    "# 0-D Arrays - scalars, are the elements in an array,  each value in an array is a 0-D array.\n"
   ]
  },
  {
   "cell_type": "code",
   "execution_count": 4,
   "id": "d3051be6",
   "metadata": {},
   "outputs": [
    {
     "name": "stdout",
     "output_type": "stream",
     "text": [
      "42\n"
     ]
    }
   ],
   "source": [
    "# Now we will Create 0_d array with value 42\n",
    "import numpy as np\n",
    "x = np.array(42)\n",
    "print(x) \n"
   ]
  },
  {
   "cell_type": "code",
   "execution_count": 5,
   "id": "8526f74d",
   "metadata": {},
   "outputs": [
    {
     "name": "stdout",
     "output_type": "stream",
     "text": [
      "[1 2 3 4 5]\n"
     ]
    }
   ],
   "source": [
    "# 1-D arrays - an array that has 0-D arrays as its elements is called uni directional or 1 -D\n",
    "import numpy as np\n",
    "arr = np.array([1, 2, 3, 4, 5])\n",
    "print(arr)"
   ]
  },
  {
   "cell_type": "code",
   "execution_count": 6,
   "id": "f1e08e92",
   "metadata": {},
   "outputs": [
    {
     "name": "stdout",
     "output_type": "stream",
     "text": [
      "[[1 2 3]\n",
      " [4 5 6]]\n"
     ]
    }
   ],
   "source": [
    "# Create a 2-D array containing 2 Arrays with certain values.\n",
    "\n",
    "import numpy as np\n",
    "x = np.array([[1, 2, 3], [4, 5, 6]])\n",
    "print(x)\n"
   ]
  },
  {
   "cell_type": "code",
   "execution_count": 7,
   "id": "8d53e28c",
   "metadata": {},
   "outputs": [
    {
     "name": "stdout",
     "output_type": "stream",
     "text": [
      "[[[1 2 3]\n",
      "  [4 5 6]]\n",
      "\n",
      " [[1 2 3]\n",
      "  [4 5 6]]]\n"
     ]
    }
   ],
   "source": [
    "#Now we will Create a 3-D array with two 2-D array.\n",
    "import numpy as np\n",
    "arr = np.array([[[1, 2, 3], [4, 5, 6]], [[1, 2, 3],[4, 5, 6]]])\n",
    "print(arr)"
   ]
  },
  {
   "cell_type": "code",
   "execution_count": 8,
   "id": "6f8bf754",
   "metadata": {},
   "outputs": [
    {
     "name": "stdout",
     "output_type": "stream",
     "text": [
      "0\n",
      "1\n",
      "2\n",
      "3\n"
     ]
    }
   ],
   "source": [
    "# Check how many dimensions the array have: ndim attribute\n",
    "import numpy as np\n",
    "a = np.array(42)\n",
    "b = np.array([1, 2, 3, 4, 5])\n",
    "c = np.array([[1, 2, 3], [4, 5, 6]])\n",
    "d = np.array([[[1, 2, 3], [4, 5, 6]], [[1, 2, 3],[4, 5, 6]]])\n",
    "\n",
    "print(a.ndim)\n",
    "print(b.ndim)\n",
    "print(c.ndim)\n",
    "print(d.ndim)"
   ]
  },
  {
   "cell_type": "code",
   "execution_count": 9,
   "id": "54557b81",
   "metadata": {},
   "outputs": [
    {
     "name": "stdout",
     "output_type": "stream",
     "text": [
      "[[[[[1 2 3 4 5]]]]]\n",
      "number of dimesions:  5\n"
     ]
    }
   ],
   "source": [
    "# Create an array with 5 dimensions and verify that it has 5 dimensions\n",
    "import numpy as np\n",
    "arr = np.array([1, 2, 3, 4, 5], ndmin=5)\n",
    "print(arr)\n",
    "print('number of dimesions: ', arr.ndim)"
   ]
  }
 ],
 "metadata": {
  "kernelspec": {
   "display_name": "Python 3 (ipykernel)",
   "language": "python",
   "name": "python3"
  },
  "language_info": {
   "codemirror_mode": {
    "name": "ipython",
    "version": 3
   },
   "file_extension": ".py",
   "mimetype": "text/x-python",
   "name": "python",
   "nbconvert_exporter": "python",
   "pygments_lexer": "ipython3",
   "version": "3.9.13"
  }
 },
 "nbformat": 4,
 "nbformat_minor": 5
}
