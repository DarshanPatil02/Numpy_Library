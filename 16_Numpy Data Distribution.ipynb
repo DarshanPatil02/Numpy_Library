{
 "cells": [
  {
   "cell_type": "code",
   "execution_count": 1,
   "id": "a4635352",
   "metadata": {},
   "outputs": [],
   "source": [
    "# data distribution is a list of all possible value and how often each value occor.\n",
    "# such lists are important when working with statistics and data science.\n",
    "\n",
    "# Random distribution: probability function.\n",
    "\n",
    "# now we will generate 1-D with 100 values where each value has to be 3,5,7,9\n",
    "# the probability for the value 3 is set to be 0.1\n",
    "# the probability for the value 5 is set to be 0.3\n",
    "# the probability for the value 7 is set to be 0.6\n",
    "# the probability for the value 9 is set to be 0\n",
    "# The sum of all probility numbers should be \"1\""
   ]
  },
  {
   "cell_type": "code",
   "execution_count": 2,
   "id": "344c001e",
   "metadata": {},
   "outputs": [
    {
     "name": "stdout",
     "output_type": "stream",
     "text": [
      "[7 5 3 5 7 7 5 5 5 3 7 5 7 5 5 5 7 7 7 5 7 5 5 7 7 7 7 7 5 7 3 7 7 7 7 7 7\n",
      " 7 7 3 7 7 7 7 7 7 7 5 5 7 7 7 3 5 5 7 7 7 5 7 7 7 3 7 7 5 7 5 3 7 7 5 7 5\n",
      " 5 7 7 7 5 7 5 5 7 5 5 7 7 7 7 3 5 7 7 5 7 7 5 7 7 7]\n"
     ]
    }
   ],
   "source": [
    "from numpy import random\n",
    "arr = random.choice([3,5,7,9], p=[0.1, 0.3, 0.6, 0.0], size=(100))\n",
    "print(arr)"
   ]
  },
  {
   "cell_type": "code",
   "execution_count": 3,
   "id": "61651ab0",
   "metadata": {},
   "outputs": [
    {
     "name": "stdout",
     "output_type": "stream",
     "text": [
      "[[7 7 5 7 5]\n",
      " [7 7 3 7 5]\n",
      " [7 7 3 7 5]]\n"
     ]
    }
   ],
   "source": [
    "# now we will return 2-D with 3 rows each containing 5 values:\n",
    "from numpy import random\n",
    "arr = random.choice([3,5,7,9], p=[0.1, 0.3, 0.6, 0.0], size=(3, 5))\n",
    "print(arr)\n",
    "\n"
   ]
  }
 ],
 "metadata": {
  "kernelspec": {
   "display_name": "Python 3 (ipykernel)",
   "language": "python",
   "name": "python3"
  },
  "language_info": {
   "codemirror_mode": {
    "name": "ipython",
    "version": 3
   },
   "file_extension": ".py",
   "mimetype": "text/x-python",
   "name": "python",
   "nbconvert_exporter": "python",
   "pygments_lexer": "ipython3",
   "version": "3.9.13"
  }
 },
 "nbformat": 4,
 "nbformat_minor": 5
}
