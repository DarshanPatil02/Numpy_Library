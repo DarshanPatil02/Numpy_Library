{
 "cells": [
  {
   "cell_type": "code",
   "execution_count": 1,
   "id": "673e26cd",
   "metadata": {},
   "outputs": [],
   "source": [
    "# reshaping - means changing the shape of an array ,like adding or removing the elements."
   ]
  },
  {
   "cell_type": "code",
   "execution_count": 2,
   "id": "329e829e",
   "metadata": {},
   "outputs": [
    {
     "name": "stdout",
     "output_type": "stream",
     "text": [
      "[[ 1  2  3]\n",
      " [ 4  5  6]\n",
      " [ 7  8  9]\n",
      " [10 11 12]]\n"
     ]
    }
   ],
   "source": [
    "# reshaping from 1-D to 2-D\n",
    "import numpy as np\n",
    "sharad = np.array([1,2,3,4,5,6,7,8,9,10,11,12])\n",
    "sharad1 = sharad.reshape(4, 3)\n",
    "print(sharad1)"
   ]
  },
  {
   "cell_type": "code",
   "execution_count": 3,
   "id": "5e3c795c",
   "metadata": {},
   "outputs": [
    {
     "name": "stdout",
     "output_type": "stream",
     "text": [
      "[[[ 1  2]\n",
      "  [ 3  4]\n",
      "  [ 5  6]]\n",
      "\n",
      " [[ 7  8]\n",
      "  [ 9 10]\n",
      "  [11 12]]]\n"
     ]
    }
   ],
   "source": [
    "# reshping from 1-D to 3-D\n",
    "import numpy as np\n",
    "sharad = np.array([1,2,3,4,5,6,7,8,9,10,11,12])\n",
    "sharad1 = sharad.reshape(2, 3, 2)\n",
    "print(sharad1)"
   ]
  },
  {
   "cell_type": "code",
   "execution_count": 4,
   "id": "d4de5ac7",
   "metadata": {},
   "outputs": [
    {
     "name": "stdout",
     "output_type": "stream",
     "text": [
      "[1 2 3 4 5 6 7 8]\n"
     ]
    }
   ],
   "source": [
    "# Return copy or view\n",
    "import numpy as np\n",
    "sharad = np.array([1,2,3,4,5,6,7,8])\n",
    "print(sharad.reshape(2, 4).base)"
   ]
  },
  {
   "cell_type": "code",
   "execution_count": 5,
   "id": "74e5bac7",
   "metadata": {},
   "outputs": [
    {
     "name": "stdout",
     "output_type": "stream",
     "text": [
      "[[[1 2]\n",
      "  [3 4]]\n",
      "\n",
      " [[5 6]\n",
      "  [7 8]]]\n"
     ]
    }
   ],
   "source": [
    "# unknown dimension - you are only allowed to have one unknown dimension. pass -1.\n",
    "\n",
    "import numpy as np\n",
    "sharad = np.array([1,2,3,4,5,6,7,8])\n",
    "sharad1 = sharad.reshape(2, 2, -1)\n",
    "print(sharad1)"
   ]
  },
  {
   "cell_type": "code",
   "execution_count": 6,
   "id": "698ba132",
   "metadata": {},
   "outputs": [
    {
     "name": "stdout",
     "output_type": "stream",
     "text": [
      "[1 2 3 4 5 6]\n"
     ]
    }
   ],
   "source": [
    "# Flattening the array by converting multidimensional array in 1-D.\n",
    "import numpy as np\n",
    "sharad = np.array([[1,2,3], [4,5,6]])\n",
    "sharad1 = sharad.reshape(-1)\n",
    "print(sharad1)"
   ]
  },
  {
   "cell_type": "raw",
   "id": "e7454495",
   "metadata": {},
   "source": [
    "There are alot of functions for changing the shapes pf an array in numpy. like flatten, ravel and also rearranging the element rot90, flip,fliplr, flipud. they all are actually comes under advanced numpy."
   ]
  }
 ],
 "metadata": {
  "kernelspec": {
   "display_name": "Python 3 (ipykernel)",
   "language": "python",
   "name": "python3"
  },
  "language_info": {
   "codemirror_mode": {
    "name": "ipython",
    "version": 3
   },
   "file_extension": ".py",
   "mimetype": "text/x-python",
   "name": "python",
   "nbconvert_exporter": "python",
   "pygments_lexer": "ipython3",
   "version": "3.9.13"
  }
 },
 "nbformat": 4,
 "nbformat_minor": 5
}
