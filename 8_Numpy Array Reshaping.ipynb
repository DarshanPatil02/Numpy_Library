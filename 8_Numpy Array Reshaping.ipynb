{
 "cells": [
  {
   "cell_type": "code",
   "execution_count": 1,
   "id": "a35c0fe1",
   "metadata": {},
   "outputs": [],
   "source": [
    "# reshaping - means changing the shape of an array ,like adding or removing the elements."
   ]
  },
  {
   "cell_type": "code",
   "execution_count": 2,
   "id": "e22336b9",
   "metadata": {},
   "outputs": [
    {
     "name": "stdout",
     "output_type": "stream",
     "text": [
      "[[ 1  2  3]\n",
      " [ 4  5  6]\n",
      " [ 7  8  9]\n",
      " [10 11 12]]\n"
     ]
    }
   ],
   "source": [
    "# reshaping from 1-D to 2-D\n",
    "import numpy as np\n",
    "sharad = np.array([1,2,3,4,5,6,7,8,9,10,11,12])\n",
    "sharad1 = sharad.reshape(4, 3)\n",
    "print(sharad1)"
   ]
  },
  {
   "cell_type": "code",
   "execution_count": 3,
   "id": "092af047",
   "metadata": {},
   "outputs": [
    {
     "name": "stdout",
     "output_type": "stream",
     "text": [
      "[[[ 1  2]\n",
      "  [ 3  4]\n",
      "  [ 5  6]]\n",
      "\n",
      " [[ 7  8]\n",
      "  [ 9 10]\n",
      "  [11 12]]]\n"
     ]
    }
   ],
   "source": [
    "# reshping from 1-D to 3-D\n",
    "import numpy as np\n",
    "sharad = np.array([1,2,3,4,5,6,7,8,9,10,11,12])\n",
    "sharad1 = sharad.reshape(2, 3, 2)\n",
    "print(sharad1)"
   ]
  },
  {
   "cell_type": "code",
   "execution_count": 4,
   "id": "183f35c6",
   "metadata": {},
   "outputs": [
    {
     "name": "stdout",
     "output_type": "stream",
     "text": [
      "[1 2 3 4 5 6 7 8]\n"
     ]
    }
   ],
   "source": [
    "# Return copy or view\n",
    "import numpy as np\n",
    "sharad = np.array([1,2,3,4,5,6,7,8])\n",
    "print(sharad.reshape(2, 4).base)"
   ]
  },
  {
   "cell_type": "code",
   "execution_count": 5,
   "id": "740ed419",
   "metadata": {},
   "outputs": [
    {
     "name": "stdout",
     "output_type": "stream",
     "text": [
      "[[[1 2]\n",
      "  [3 4]]\n",
      "\n",
      " [[5 6]\n",
      "  [7 8]]]\n"
     ]
    }
   ],
   "source": [
    "# unknown dimension - you are only allowed to have one unknown dimension. pass -1.\n",
    "\n",
    "import numpy as np\n",
    "sharad = np.array([1,2,3,4,5,6,7,8])\n",
    "sharad1 = sharad.reshape(2, 2, -1)\n",
    "print(sharad1)"
   ]
  },
  {
   "cell_type": "code",
   "execution_count": 6,
   "id": "23bc51e7",
   "metadata": {},
   "outputs": [
    {
     "name": "stdout",
     "output_type": "stream",
     "text": [
      "[1 2 3 4 5 6]\n"
     ]
    }
   ],
   "source": [
    "# Flattening the array by converting multidimensional array in 1-D.\n",
    "import numpy as np\n",
    "sharad = np.array([[1,2,3], [4,5,6]])\n",
    "sharad1 = sharad.reshape(-1)\n",
    "print(sharad1)"
   ]
  },
  {
   "cell_type": "code",
   "execution_count": 7,
   "id": "f68061b9",
   "metadata": {},
   "outputs": [],
   "source": [
    "there are alot of functions for changing the shapes pf an array in numpy. like flatten, ravel and also rearranging the element rot90, flip,fliplr, flipud. they all are actually comes under advanced numpy."
   ]
  },
  {
   "cell_type": "code",
   "execution_count": null,
   "id": "1bc4329f",
   "metadata": {},
   "outputs": [],
   "source": []
  },
  {
   "cell_type": "code",
   "execution_count": null,
   "id": "a04722d1",
   "metadata": {},
   "outputs": [],
   "source": []
  },
  {
   "cell_type": "code",
   "execution_count": null,
   "id": "014f63b3",
   "metadata": {},
   "outputs": [],
   "source": []
  },
  {
   "cell_type": "code",
   "execution_count": null,
   "id": "a261ee61",
   "metadata": {},
   "outputs": [],
   "source": []
  },
  {
   "cell_type": "code",
   "execution_count": null,
   "id": "8d31ed1b",
   "metadata": {},
   "outputs": [],
   "source": []
  },
  {
   "cell_type": "code",
   "execution_count": null,
   "id": "97cc7712",
   "metadata": {},
   "outputs": [],
   "source": []
  }
 ],
 "metadata": {
  "kernelspec": {
   "display_name": "Python 3 (ipykernel)",
   "language": "python",
   "name": "python3"
  },
  "language_info": {
   "codemirror_mode": {
    "name": "ipython",
    "version": 3
   },
   "file_extension": ".py",
   "mimetype": "text/x-python",
   "name": "python",
   "nbconvert_exporter": "python",
   "pygments_lexer": "ipython3",
   "version": "3.9.13"
  }
 },
 "nbformat": 4,
 "nbformat_minor": 5
}
