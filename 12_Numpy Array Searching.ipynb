{
 "cells": [
  {
   "cell_type": "code",
   "execution_count": 1,
   "id": "e7162f9c",
   "metadata": {},
   "outputs": [
    {
     "name": "stdout",
     "output_type": "stream",
     "text": [
      "(array([3, 5, 6], dtype=int64),)\n"
     ]
    }
   ],
   "source": [
    "# searching array - you can search an array for a certain value and return the indexes that get the match. by using where()\n",
    "import numpy as np\n",
    "arr = np.array([1,2,3,4,5,4,4])\n",
    "arrnew = np.where(arr == 4)\n",
    "print(arrnew)"
   ]
  },
  {
   "cell_type": "code",
   "execution_count": 2,
   "id": "29e18412",
   "metadata": {},
   "outputs": [
    {
     "name": "stdout",
     "output_type": "stream",
     "text": [
      "(array([1, 3, 5, 7], dtype=int64),)\n"
     ]
    }
   ],
   "source": [
    "# now we will find the indexes where the values are even:\n",
    "import numpy as np\n",
    "arr = np.array([1,2,3,4,5,6,7,8])\n",
    "arr1 = np.where(arr%2 == 0)\n",
    "print(arr1)"
   ]
  },
  {
   "cell_type": "code",
   "execution_count": 3,
   "id": "1e3c8ee7",
   "metadata": {},
   "outputs": [
    {
     "name": "stdout",
     "output_type": "stream",
     "text": [
      "(array([0, 2, 4, 6], dtype=int64),)\n"
     ]
    }
   ],
   "source": [
    "# now we will find the indexes where the values are odd:\n",
    "import numpy as np\n",
    "arr = np.array([1,2,3,4,5,6,7,8])\n",
    "arr1 = np.where(arr%2 == 1)\n",
    "print(arr1)"
   ]
  },
  {
   "cell_type": "code",
   "execution_count": 4,
   "id": "a79bbb21",
   "metadata": {},
   "outputs": [
    {
     "name": "stdout",
     "output_type": "stream",
     "text": [
      "1\n"
     ]
    }
   ],
   "source": [
    "# Searchsorted() - perform binary search in array.\n",
    "# we will now find the index where the value 7 should be insterted.\n",
    "import numpy as np\n",
    "arr = np.array([6,7,8,9])\n",
    "arr1 = np.searchsorted(arr, 7)\n",
    "print(arr1)"
   ]
  },
  {
   "cell_type": "code",
   "execution_count": 5,
   "id": "d0c722a7",
   "metadata": {},
   "outputs": [
    {
     "name": "stdout",
     "output_type": "stream",
     "text": [
      "2\n"
     ]
    }
   ],
   "source": [
    "# now we will search fron right side\n",
    "import numpy as np\n",
    "arr = np.array([6,7,8,9])\n",
    "arr1 = np.searchsorted(arr, 7, side='right')\n",
    "print(arr1)"
   ]
  },
  {
   "cell_type": "code",
   "execution_count": 6,
   "id": "8a08b6e9",
   "metadata": {},
   "outputs": [
    {
     "name": "stdout",
     "output_type": "stream",
     "text": [
      "[1 2 3]\n"
     ]
    }
   ],
   "source": [
    "# how to search multiple values:\n",
    "import numpy as np\n",
    "arr = np.array([1,3,5,7])\n",
    "arr1 = np.searchsorted(arr, [2,4,6])\n",
    "print(arr1)"
   ]
  }
 ],
 "metadata": {
  "kernelspec": {
   "display_name": "Python 3 (ipykernel)",
   "language": "python",
   "name": "python3"
  },
  "language_info": {
   "codemirror_mode": {
    "name": "ipython",
    "version": 3
   },
   "file_extension": ".py",
   "mimetype": "text/x-python",
   "name": "python",
   "nbconvert_exporter": "python",
   "pygments_lexer": "ipython3",
   "version": "3.9.13"
  }
 },
 "nbformat": 4,
 "nbformat_minor": 5
}
