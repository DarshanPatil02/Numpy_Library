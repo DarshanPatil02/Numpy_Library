{
 "cells": [
  {
   "cell_type": "code",
   "execution_count": 1,
   "id": "d0732dfa",
   "metadata": {},
   "outputs": [
    {
     "name": "stdout",
     "output_type": "stream",
     "text": [
      "(2, 4)\n"
     ]
    }
   ],
   "source": [
    "# shape of an array - the shape of an array is the number of elements in each dimensions.\n",
    "# now we will try to get the shape of any array.\n",
    "import numpy as np\n",
    "arr = np.array([[1,2,3,4], [5,6,7,8]])\n",
    "print(arr.shape)"
   ]
  },
  {
   "cell_type": "code",
   "execution_count": 2,
   "id": "d251e0bd",
   "metadata": {},
   "outputs": [],
   "source": [
    "# (2,4) which means the array has 2 dimensions and it has 4 elements"
   ]
  },
  {
   "cell_type": "code",
   "execution_count": 3,
   "id": "c5c7fde4",
   "metadata": {
    "scrolled": true
   },
   "outputs": [
    {
     "name": "stdout",
     "output_type": "stream",
     "text": [
      "[[[[[1 2 3 4]]]]]\n",
      "shape of array is  (1, 1, 1, 1, 4)\n"
     ]
    }
   ],
   "source": [
    "# now we will create a 5-D array using ndmin :\n",
    "import numpy as np\n",
    "arr = np.array([1,2,3,4], ndmin=5)\n",
    "print(arr)\n",
    "print('shape of array is ', arr.shape)"
   ]
  },
  {
   "cell_type": "raw",
   "id": "47735cfd",
   "metadata": {},
   "source": [
    "This means that the array has 5 dimensions, with the first four dimensions having a size of 1, and the last dimension having a size of 4, which matches the length of the original list."
   ]
  }
 ],
 "metadata": {
  "kernelspec": {
   "display_name": "Python 3 (ipykernel)",
   "language": "python",
   "name": "python3"
  },
  "language_info": {
   "codemirror_mode": {
    "name": "ipython",
    "version": 3
   },
   "file_extension": ".py",
   "mimetype": "text/x-python",
   "name": "python",
   "nbconvert_exporter": "python",
   "pygments_lexer": "ipython3",
   "version": "3.9.13"
  }
 },
 "nbformat": 4,
 "nbformat_minor": 5
}
