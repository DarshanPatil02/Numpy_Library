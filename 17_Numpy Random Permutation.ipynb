{
 "cells": [
  {
   "cell_type": "code",
   "execution_count": null,
   "id": "3fc74d4e",
   "metadata": {},
   "outputs": [],
   "source": [
    "# Permutation refers to an arrangement of elements like [3,2,1] is permutation of [1,2,3] and vice versa.\n",
    "# the numpy random module provides 2 methods: shuffle() and permutation()."
   ]
  },
  {
   "cell_type": "code",
   "execution_count": null,
   "id": "8579f764",
   "metadata": {},
   "outputs": [],
   "source": [
    "# shuffle() method make changes to the original array \n",
    "# now we will randomly suffle elemements for the below array:\n",
    "from numpy import random\n",
    "import numpy as np\n",
    "sharad = np.array([1,2,3,4,5])\n",
    "random.shuffle(sharad)\n",
    "print(sharad)"
   ]
  },
  {
   "cell_type": "code",
   "execution_count": null,
   "id": "7726e25f",
   "metadata": {},
   "outputs": [],
   "source": [
    "# now we will generate a permutation of elements for the below array:\n",
    "# the permutation() method leaves the original array unchanged.\n",
    "from numpy import random\n",
    "import numpy as np\n",
    "sharad = np.array([1,2,3,4,5])\n",
    "print(random.permutation(sharad)) "
   ]
  }
 ],
 "metadata": {
  "kernelspec": {
   "display_name": "Python 3 (ipykernel)",
   "language": "python",
   "name": "python3"
  },
  "language_info": {
   "codemirror_mode": {
    "name": "ipython",
    "version": 3
   },
   "file_extension": ".py",
   "mimetype": "text/x-python",
   "name": "python",
   "nbconvert_exporter": "python",
   "pygments_lexer": "ipython3",
   "version": "3.9.13"
  }
 },
 "nbformat": 4,
 "nbformat_minor": 5
}
