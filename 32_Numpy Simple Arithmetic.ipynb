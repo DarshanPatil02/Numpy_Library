{
 "cells": [
  {
   "cell_type": "code",
   "execution_count": 1,
   "id": "d76b6152",
   "metadata": {},
   "outputs": [
    {
     "name": "stdout",
     "output_type": "stream",
     "text": [
      "[30 32 34 36 38 40]\n"
     ]
    }
   ],
   "source": [
    "# arithemtic operators: +, -, / , *\n",
    "# by using ufunc additional arguments like, where, dtype and out.\n",
    "# here now we will use add()\n",
    "import numpy as np\n",
    "arr1 = np.array([10,11,12,13,14,15])\n",
    "arr2 = np.array([20,21,22,23,24,25])\n",
    "arrnew = np.add(arr1, arr2)\n",
    "print(arrnew)"
   ]
  },
  {
   "cell_type": "code",
   "execution_count": 2,
   "id": "36e79e56",
   "metadata": {},
   "outputs": [
    {
     "name": "stdout",
     "output_type": "stream",
     "text": [
      "[-10 -10 -10 -10 -10 -10]\n"
     ]
    }
   ],
   "source": [
    "#  example of substracting the value\n",
    "import numpy as np\n",
    "arr1 = np.array([10,11,12,13,14,15])\n",
    "arr2 = np.array([20,21,22,23,24,25])\n",
    "arrnew = np.subtract(arr1, arr2)\n",
    "print(arrnew)"
   ]
  },
  {
   "cell_type": "code",
   "execution_count": 3,
   "id": "bce4a30c",
   "metadata": {},
   "outputs": [
    {
     "name": "stdout",
     "output_type": "stream",
     "text": [
      "[200 231 264 299 336 375]\n"
     ]
    }
   ],
   "source": [
    "# example of multipication\n",
    "import numpy as np\n",
    "arr1 = np.array([10,11,12,13,14,15])\n",
    "arr2 = np.array([20,21,22,23,24,25])\n",
    "arrnew = np.multiply(arr1, arr2)\n",
    "print(arrnew)"
   ]
  },
  {
   "cell_type": "code",
   "execution_count": 4,
   "id": "4b5c0c38",
   "metadata": {},
   "outputs": [
    {
     "name": "stdout",
     "output_type": "stream",
     "text": [
      "[0.5        0.52380952 0.54545455 0.56521739 0.58333333 0.6       ]\n"
     ]
    }
   ],
   "source": [
    "# example of divide()\n",
    "import numpy as np\n",
    "arr1 = np.array([10,11,12,13,14,15])\n",
    "arr2 = np.array([20,21,22,23,24,25])\n",
    "arrnew = np.divide(arr1, arr2)\n",
    "print(arrnew)"
   ]
  },
  {
   "cell_type": "code",
   "execution_count": 5,
   "id": "7515787c",
   "metadata": {},
   "outputs": [
    {
     "name": "stdout",
     "output_type": "stream",
     "text": [
      "[      1000    3200000  729000000 -520093696       2500          0]\n"
     ]
    }
   ],
   "source": [
    "# power() function raises the value from the 1st array to the power of the values of the 2nd array and return the results in a new array.\n",
    "\n",
    "import numpy as np\n",
    "arr1 = np.array([10,20,30,40,50,60])\n",
    "arr2 = np.array([3,5,6,8,2,33])\n",
    "arrnew = np.power(arr1, arr2)\n",
    "print(arrnew)"
   ]
  },
  {
   "cell_type": "code",
   "execution_count": 6,
   "id": "2e5dc53f",
   "metadata": {},
   "outputs": [
    {
     "name": "stdout",
     "output_type": "stream",
     "text": [
      "[ 1  6  3  0  0 27]\n"
     ]
    }
   ],
   "source": [
    "# reminder- mod() and reminder() fucntions return the reminder of the 1st array corrosponding to the 2nd array, and result in the new array.\n",
    "import numpy as np\n",
    "arr1 = np.array([10,20,30,40,50,60])\n",
    "arr2 = np.array([3,7,9,8,2,33])\n",
    "arrnew = np.mod(arr1, arr2)\n",
    "print(arrnew)"
   ]
  },
  {
   "cell_type": "code",
   "execution_count": 7,
   "id": "4271af8c",
   "metadata": {},
   "outputs": [
    {
     "name": "stdout",
     "output_type": "stream",
     "text": [
      "[ 1  6  3  0  0 27]\n"
     ]
    }
   ],
   "source": [
    "# by using reminder()\n",
    "import numpy as np\n",
    "arr1 = np.array([10,20,30,40,50,60])\n",
    "arr2 = np.array([3,7,9,8,2,33])\n",
    "arrnew = np.remainder(arr1, arr2)\n",
    "print(arrnew)"
   ]
  },
  {
   "cell_type": "code",
   "execution_count": 8,
   "id": "df796dad",
   "metadata": {},
   "outputs": [
    {
     "name": "stdout",
     "output_type": "stream",
     "text": [
      "(array([ 3,  2,  3,  5, 25,  1]), array([ 1,  6,  3,  0,  0, 27]))\n"
     ]
    }
   ],
   "source": [
    "# quotient and mod(reminder)\n",
    "# the divmod() function return both the quotient and mod.\n",
    "import numpy as np\n",
    "arr1 = np.array([10,20,30,40,50,60])\n",
    "arr2 = np.array([3,7,9,8,2,33])\n",
    "arrnew = np.divmod(arr1, arr2)\n",
    "print(arrnew)"
   ]
  },
  {
   "cell_type": "code",
   "execution_count": 9,
   "id": "663f7f08",
   "metadata": {},
   "outputs": [
    {
     "name": "stdout",
     "output_type": "stream",
     "text": [
      "[1 2 3 4 5]\n"
     ]
    }
   ],
   "source": [
    "# absolute() and abs()- do the same operation but here we should use absolute() to avoid confusion with python inbuilt function math.abs().\n",
    "import numpy as np\n",
    "arr = np.array([-1,-2,-3,-4,-5])\n",
    "arrnew = np.absolute(arr)\n",
    "print(arrnew)"
   ]
  }
 ],
 "metadata": {
  "kernelspec": {
   "display_name": "Python 3 (ipykernel)",
   "language": "python",
   "name": "python3"
  },
  "language_info": {
   "codemirror_mode": {
    "name": "ipython",
    "version": 3
   },
   "file_extension": ".py",
   "mimetype": "text/x-python",
   "name": "python",
   "nbconvert_exporter": "python",
   "pygments_lexer": "ipython3",
   "version": "3.9.13"
  }
 },
 "nbformat": 4,
 "nbformat_minor": 5
}
