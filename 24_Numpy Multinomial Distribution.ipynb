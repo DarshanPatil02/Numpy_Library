{
 "cells": [
  {
   "cell_type": "code",
   "execution_count": 1,
   "id": "83825e98",
   "metadata": {},
   "outputs": [
    {
     "name": "stdout",
     "output_type": "stream",
     "text": [
      "[1 1 1 2 1 0]\n"
     ]
    }
   ],
   "source": [
    "#Multinomial dist: it is a generalization of binomial dist.\n",
    "# parameter - n(number of possibility or outcome), pvals(list of possibility or outcome), size(shape of returned array) \n",
    "# draw out a sample for dice roll\n",
    "from numpy import random\n",
    "arr = random.multinomial(n=6, pvals=[1/6, 1/6, 1/6, 1/6, 1/6, 1/6])\n",
    "print(arr)\n",
    "\n",
    "# multinomial samples will not produce a single value , they will produce one value for each pvals."
   ]
  }
 ],
 "metadata": {
  "kernelspec": {
   "display_name": "Python 3 (ipykernel)",
   "language": "python",
   "name": "python3"
  },
  "language_info": {
   "codemirror_mode": {
    "name": "ipython",
    "version": 3
   },
   "file_extension": ".py",
   "mimetype": "text/x-python",
   "name": "python",
   "nbconvert_exporter": "python",
   "pygments_lexer": "ipython3",
   "version": "3.9.13"
  }
 },
 "nbformat": 4,
 "nbformat_minor": 5
}
