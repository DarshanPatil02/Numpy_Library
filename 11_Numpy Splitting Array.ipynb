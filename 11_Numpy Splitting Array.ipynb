{
 "cells": [
  {
   "cell_type": "code",
   "execution_count": 1,
   "id": "deac5ca8",
   "metadata": {},
   "outputs": [],
   "source": [
    "# spliting arrays in numpy- it is reverse to joining, breaking the array.\n",
    "# array_split()"
   ]
  },
  {
   "cell_type": "code",
   "execution_count": 2,
   "id": "8e0880dc",
   "metadata": {},
   "outputs": [
    {
     "name": "stdout",
     "output_type": "stream",
     "text": [
      "[array([1, 2]), array([3, 4]), array([5, 6])]\n"
     ]
    }
   ],
   "source": [
    "# split the array in 3 parts:\n",
    "import numpy as np\n",
    "arr = np.array([1,2,3,4,5,6])\n",
    "arrnew = np.array_split(arr, 3)\n",
    "print(arrnew)"
   ]
  },
  {
   "cell_type": "code",
   "execution_count": 3,
   "id": "d76c471d",
   "metadata": {},
   "outputs": [
    {
     "name": "stdout",
     "output_type": "stream",
     "text": [
      "[array([1, 2]), array([3, 4]), array([5]), array([6])]\n"
     ]
    }
   ],
   "source": [
    "# now we will split this array in 4 parts\n",
    "import numpy as np\n",
    "arr = np.array([1,2,3,4,5,6])\n",
    "arrnew = np.array_split(arr, 4)\n",
    "print(arrnew)"
   ]
  },
  {
   "cell_type": "code",
   "execution_count": 4,
   "id": "a8032c5d",
   "metadata": {},
   "outputs": [
    {
     "name": "stdout",
     "output_type": "stream",
     "text": [
      "[1 2]\n",
      "[3 4]\n",
      "[5 6]\n"
     ]
    }
   ],
   "source": [
    "# split into array with index\n",
    "\n",
    "import numpy as np\n",
    "arr = np.array([1,2,3,4,5,6])\n",
    "arrnew = np.array_split(arr, 3)\n",
    "print(arrnew[0])\n",
    "print(arrnew[1])\n",
    "print(arrnew[2])"
   ]
  },
  {
   "cell_type": "code",
   "execution_count": 5,
   "id": "9558bcdc",
   "metadata": {},
   "outputs": [
    {
     "name": "stdout",
     "output_type": "stream",
     "text": [
      "[array([[1, 2],\n",
      "       [3, 4]]), array([[5, 6],\n",
      "       [7, 8]]), array([[ 9, 10],\n",
      "       [11, 12]])]\n"
     ]
    }
   ],
   "source": [
    "# splitting the 2-D array\n",
    "import numpy as np\n",
    "arr = np.array([[1,2], [3,4], [5,6], [7,8], [9,10], [11,12]])\n",
    "arrnew = np.array_split(arr, 3)\n",
    "print(arrnew)"
   ]
  },
  {
   "cell_type": "code",
   "execution_count": 6,
   "id": "a47602b7",
   "metadata": {},
   "outputs": [
    {
     "name": "stdout",
     "output_type": "stream",
     "text": [
      "[array([[1, 2, 3],\n",
      "       [4, 5, 6]]), array([[ 7,  8,  9],\n",
      "       [10, 11, 12]]), array([[13, 14, 15],\n",
      "       [16, 17, 18]])]\n"
     ]
    }
   ],
   "source": [
    "# split the 2-D array into three 2-D arrays\n",
    "import numpy as np\n",
    "arr = np.array([[1,2,3], [4,5,6], [7,8,9], [10,11,12], [13,14,15], [16,17,18]])\n",
    "arrnew = np.array_split(arr, 3)\n",
    "print(arrnew)"
   ]
  },
  {
   "cell_type": "code",
   "execution_count": 7,
   "id": "7d394843",
   "metadata": {},
   "outputs": [
    {
     "name": "stdout",
     "output_type": "stream",
     "text": [
      "[array([[ 1],\n",
      "       [ 4],\n",
      "       [ 7],\n",
      "       [10],\n",
      "       [13],\n",
      "       [16]]), array([[ 2],\n",
      "       [ 5],\n",
      "       [ 8],\n",
      "       [11],\n",
      "       [14],\n",
      "       [17]]), array([[ 3],\n",
      "       [ 6],\n",
      "       [ 9],\n",
      "       [12],\n",
      "       [15],\n",
      "       [18]])]\n"
     ]
    }
   ],
   "source": [
    "# spliting the 2-D into three 2-Dalong with rows\n",
    "import numpy as np\n",
    "arr = np.array([[1,2,3], [4,5,6], [7,8,9], [10,11,12], [13,14,15], [16,17,18]])\n",
    "arrnew = np.array_split(arr, 3, axis=1)\n",
    "print(arrnew)"
   ]
  },
  {
   "cell_type": "code",
   "execution_count": 8,
   "id": "3d08c2a1",
   "metadata": {},
   "outputs": [
    {
     "name": "stdout",
     "output_type": "stream",
     "text": [
      "[array([[ 1],\n",
      "       [ 4],\n",
      "       [ 7],\n",
      "       [10],\n",
      "       [13],\n",
      "       [16]]), array([[ 2],\n",
      "       [ 5],\n",
      "       [ 8],\n",
      "       [11],\n",
      "       [14],\n",
      "       [17]]), array([[ 3],\n",
      "       [ 6],\n",
      "       [ 9],\n",
      "       [12],\n",
      "       [15],\n",
      "       [18]])]\n"
     ]
    }
   ],
   "source": [
    "#alternate solution is using the hsplit(), opposite hstack()\n",
    "import numpy as np\n",
    "arr = np.array([[1,2,3], [4,5,6], [7,8,9], [10,11,12], [13,14,15], [16,17,18]])\n",
    "arrnew = np.hsplit(arr, 3)\n",
    "print(arrnew)"
   ]
  }
 ],
 "metadata": {
  "kernelspec": {
   "display_name": "Python 3 (ipykernel)",
   "language": "python",
   "name": "python3"
  },
  "language_info": {
   "codemirror_mode": {
    "name": "ipython",
    "version": 3
   },
   "file_extension": ".py",
   "mimetype": "text/x-python",
   "name": "python",
   "nbconvert_exporter": "python",
   "pygments_lexer": "ipython3",
   "version": "3.9.13"
  }
 },
 "nbformat": 4,
 "nbformat_minor": 5
}
