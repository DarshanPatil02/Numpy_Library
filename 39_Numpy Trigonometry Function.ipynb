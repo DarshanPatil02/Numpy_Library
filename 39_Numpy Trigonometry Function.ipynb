{
 "cells": [
  {
   "cell_type": "code",
   "execution_count": 1,
   "id": "94d4bcd2",
   "metadata": {},
   "outputs": [
    {
     "name": "stdout",
     "output_type": "stream",
     "text": [
      "1.0\n"
     ]
    }
   ],
   "source": [
    "# Trigonometric function: numpy provides the ufuncs line sin(), cos() and tan() that takes values in radians and produce the corresponding sin, cos and tan values.\n",
    "# here now we will find the sin value of pi/2\n",
    "import numpy as np\n",
    "arr = np.sin(np.pi/2)\n",
    "print(arr)"
   ]
  },
  {
   "cell_type": "code",
   "execution_count": 2,
   "id": "7f880d92",
   "metadata": {},
   "outputs": [
    {
     "name": "stdout",
     "output_type": "stream",
     "text": [
      "[1.         0.8660254  0.70710678 0.58778525]\n"
     ]
    }
   ],
   "source": [
    "# we will now find the sin values of an array\n",
    "import numpy as np\n",
    "arr = np.array([np.pi/2, np.pi/3, np.pi/4, np.pi/5])\n",
    "arrnew = np.sin(arr)\n",
    "print(arrnew)"
   ]
  },
  {
   "cell_type": "code",
   "execution_count": 3,
   "id": "918bdc30",
   "metadata": {},
   "outputs": [
    {
     "name": "stdout",
     "output_type": "stream",
     "text": [
      "[1.57079633 3.14159265 4.71238898 6.28318531]\n"
     ]
    }
   ],
   "source": [
    "# Convert Degree into radians: by default all of the trigonometric functions tales radians as parameter.\n",
    "# note: radians values are pi/180* degree value.\n",
    "# here we will convert all the array values to radians:\n",
    "import numpy as np\n",
    "arr = np.array([90, 180, 270,360])\n",
    "arrnew = np.deg2rad(arr)\n",
    "print(arrnew)"
   ]
  },
  {
   "cell_type": "code",
   "execution_count": 4,
   "id": "3e12d6f6",
   "metadata": {},
   "outputs": [
    {
     "name": "stdout",
     "output_type": "stream",
     "text": [
      "[ 90. 180. 270. 360.]\n"
     ]
    }
   ],
   "source": [
    "# here we will convert radians into degree.\n",
    "import numpy as np\n",
    "arr = np.array([np.pi/2, np.pi, 1.5*np.pi, 2*np.pi])\n",
    "arrnew = np.rad2deg(arr)\n",
    "print(arrnew)"
   ]
  },
  {
   "cell_type": "markdown",
   "id": "31b20d43",
   "metadata": {},
   "source": [
    "#### Here we can also find angles : arcsin(), arccos() and arctan() that takes values in radians and produce the corresponding sin, cos and tan values."
   ]
  },
  {
   "cell_type": "code",
   "execution_count": 5,
   "id": "6856f192",
   "metadata": {},
   "outputs": [
    {
     "name": "stdout",
     "output_type": "stream",
     "text": [
      "1.5707963267948966\n"
     ]
    }
   ],
   "source": [
    "# we will now find the angle of 1.0\n",
    "import numpy as np\n",
    "arr = np.arcsin(1.0)\n",
    "print(arr)"
   ]
  },
  {
   "cell_type": "code",
   "execution_count": 6,
   "id": "2d1edc72",
   "metadata": {},
   "outputs": [
    {
     "name": "stdout",
     "output_type": "stream",
     "text": [
      "[ 1.57079633 -1.57079633  0.10016742]\n"
     ]
    }
   ],
   "source": [
    "# angles of each values in an array:\n",
    "import numpy as np\n",
    "arr = np.array([1, -1, 0.1])\n",
    "arrnew = np.arcsin(arr)\n",
    "print(arrnew)"
   ]
  },
  {
   "cell_type": "code",
   "execution_count": 7,
   "id": "cbcd74ba",
   "metadata": {},
   "outputs": [],
   "source": [
    "# here we can also find the hypotenous using the pythagoras theorem in numpy\n",
    "# hypot() function that takes values in radians and produce the corresponding sin, cos and tan values."
   ]
  },
  {
   "cell_type": "code",
   "execution_count": 8,
   "id": "5f813126",
   "metadata": {},
   "outputs": [
    {
     "name": "stdout",
     "output_type": "stream",
     "text": [
      "5.0\n"
     ]
    }
   ],
   "source": [
    "# here we will find the hypot for 3 base and 4 perpendicular.\n",
    "import numpy as np\n",
    "base = 3\n",
    "perp = 4\n",
    "arr = np.hypot(base, perp)\n",
    "print(arr)"
   ]
  }
 ],
 "metadata": {
  "kernelspec": {
   "display_name": "Python 3 (ipykernel)",
   "language": "python",
   "name": "python3"
  },
  "language_info": {
   "codemirror_mode": {
    "name": "ipython",
    "version": 3
   },
   "file_extension": ".py",
   "mimetype": "text/x-python",
   "name": "python",
   "nbconvert_exporter": "python",
   "pygments_lexer": "ipython3",
   "version": "3.9.13"
  }
 },
 "nbformat": 4,
 "nbformat_minor": 5
}
