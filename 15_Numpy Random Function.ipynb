{
 "cells": [
  {
   "cell_type": "code",
   "execution_count": 1,
   "id": "7ce81f37",
   "metadata": {},
   "outputs": [
    {
     "name": "stdout",
     "output_type": "stream",
     "text": [
      "61\n"
     ]
    }
   ],
   "source": [
    "# Random meaning - something that cannot be predicted logically.\n",
    "# Now we will generate a random number from 0 to 100\n",
    "from numpy import random \n",
    "arr = random.randint(100)\n",
    "print(arr) "
   ]
  },
  {
   "cell_type": "code",
   "execution_count": 2,
   "id": "79767c6a",
   "metadata": {},
   "outputs": [
    {
     "name": "stdout",
     "output_type": "stream",
     "text": [
      "0.17593296246765577\n"
     ]
    }
   ],
   "source": [
    "# You can also genetrate float() via rand() from 0 to 1\n",
    "from numpy import random \n",
    "arr = random.rand()\n",
    "print(arr) "
   ]
  },
  {
   "cell_type": "code",
   "execution_count": 3,
   "id": "2dfe713b",
   "metadata": {},
   "outputs": [
    {
     "name": "stdout",
     "output_type": "stream",
     "text": [
      "[85 76  9 51 69]\n"
     ]
    }
   ],
   "source": [
    "# You can also generate random Array.\n",
    "# we will generate a 1-D array containing 5 random int from 0 to 100:\n",
    "from numpy import random \n",
    "arr = random.randint(100, size=(5))\n",
    "print(arr) "
   ]
  },
  {
   "cell_type": "code",
   "execution_count": 4,
   "id": "b5e9e070",
   "metadata": {},
   "outputs": [
    {
     "name": "stdout",
     "output_type": "stream",
     "text": [
      "[[ 6 62 31 50 35]\n",
      " [36 28 38 49 67]\n",
      " [72 45 75 86 54]]\n"
     ]
    }
   ],
   "source": [
    "# You can also generate random Array.\n",
    "# we will generate a 2-D array with 3 rows, each row  containing 5 random int from 0 to 100:\n",
    "from numpy import random \n",
    "arr = random.randint(100, size=(3, 5))\n",
    "print(arr) "
   ]
  },
  {
   "cell_type": "code",
   "execution_count": 5,
   "id": "0c8c3406",
   "metadata": {},
   "outputs": [
    {
     "name": "stdout",
     "output_type": "stream",
     "text": [
      "[0.69324813 0.07456161 0.82298672 0.9287897  0.74817227]\n"
     ]
    }
   ],
   "source": [
    "# You can also generate random Array.\n",
    "# we will generate a 1-D array containing 5 random float:\n",
    "from numpy import random \n",
    "arr = random.rand(5)\n",
    "print(arr) "
   ]
  },
  {
   "cell_type": "code",
   "execution_count": 6,
   "id": "ffcb5dd0",
   "metadata": {},
   "outputs": [
    {
     "name": "stdout",
     "output_type": "stream",
     "text": [
      "[[0.712043   0.20956569 0.67615195 0.05521039 0.88882233]\n",
      " [0.05835363 0.79018546 0.97072496 0.22424639 0.15716516]\n",
      " [0.07982348 0.43832109 0.00625482 0.14019327 0.37134149]]\n"
     ]
    }
   ],
   "source": [
    "# You can also generate random Array.\n",
    "# we will generate a 2-D array with 3 rows, each containing 5 random float:\n",
    "from numpy import random \n",
    "arr = random.rand(3, 5)\n",
    "print(arr) "
   ]
  },
  {
   "cell_type": "code",
   "execution_count": 7,
   "id": "9d9074c5",
   "metadata": {},
   "outputs": [
    {
     "name": "stdout",
     "output_type": "stream",
     "text": [
      "5\n"
     ]
    }
   ],
   "source": [
    "# you can also generate random numbers from an array\n",
    "# choice()\n",
    "\n",
    "from numpy import random \n",
    "arr = random.choice([3,5,7,9,1,4,6])\n",
    "print(arr) "
   ]
  },
  {
   "cell_type": "code",
   "execution_count": 8,
   "id": "267ac50a",
   "metadata": {},
   "outputs": [
    {
     "name": "stdout",
     "output_type": "stream",
     "text": [
      "[[6 9 5 1 6]\n",
      " [7 7 1 9 3]\n",
      " [9 7 3 6 1]]\n"
     ]
    }
   ],
   "source": [
    "# you can also generate random numbers from an 2-D array\n",
    "# choice()\n",
    "\n",
    "from numpy import random \n",
    "arr = random.choice([3,5,7,9,1,4,6], size=(3, 5))\n",
    "print(arr) "
   ]
  }
 ],
 "metadata": {
  "kernelspec": {
   "display_name": "Python 3 (ipykernel)",
   "language": "python",
   "name": "python3"
  },
  "language_info": {
   "codemirror_mode": {
    "name": "ipython",
    "version": 3
   },
   "file_extension": ".py",
   "mimetype": "text/x-python",
   "name": "python",
   "nbconvert_exporter": "python",
   "pygments_lexer": "ipython3",
   "version": "3.9.13"
  }
 },
 "nbformat": 4,
 "nbformat_minor": 5
}
