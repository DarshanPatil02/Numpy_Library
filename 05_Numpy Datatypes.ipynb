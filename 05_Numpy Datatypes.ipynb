{
 "cells": [
  {
   "cell_type": "code",
   "execution_count": 1,
   "id": "2d455d73",
   "metadata": {},
   "outputs": [],
   "source": [
    "# data types in python: string, integer, float, boolean, complex\n",
    "# data type in numpy \n",
    "# i for integer\n",
    "# b for boolean\n",
    "# u for unsigned integer\n",
    "# f for float\n",
    "# c for complex float\n",
    "# m for timedelta\n",
    "# M for datetime\n",
    "# O for object\n",
    "# S for string\n",
    "# U for unicode string\n",
    "# V - memory"
   ]
  },
  {
   "cell_type": "code",
   "execution_count": 2,
   "id": "364c8c67",
   "metadata": {},
   "outputs": [
    {
     "name": "stdout",
     "output_type": "stream",
     "text": [
      "int32\n"
     ]
    }
   ],
   "source": [
    "# checking the data type of numpy array -dtype\n",
    "import numpy as np\n",
    "arr = np.array([1, 2, 3, 4])\n",
    "print(arr.dtype)"
   ]
  },
  {
   "cell_type": "code",
   "execution_count": 3,
   "id": "18e1b0b9",
   "metadata": {},
   "outputs": [
    {
     "name": "stdout",
     "output_type": "stream",
     "text": [
      "<U6\n"
     ]
    }
   ],
   "source": [
    "# checking the data type of numpy array - string\n",
    "\n",
    "import numpy as np\n",
    "arr = np.array(['apple', 'banana', 'cherry'])\n",
    "print(arr.dtype)"
   ]
  },
  {
   "cell_type": "code",
   "execution_count": 4,
   "id": "f236d24c",
   "metadata": {},
   "outputs": [
    {
     "name": "stdout",
     "output_type": "stream",
     "text": [
      "[b'1' b'2' b'3' b'4']\n",
      "|S1\n"
     ]
    }
   ],
   "source": [
    "# creating array with a defined data type:\n",
    "\n",
    "import numpy as np\n",
    "arr = np.array([1, 2, 3, 4], dtype='S')\n",
    "print(arr)\n",
    "print(arr.dtype)\n"
   ]
  },
  {
   "cell_type": "code",
   "execution_count": 5,
   "id": "a18692ad",
   "metadata": {},
   "outputs": [
    {
     "name": "stdout",
     "output_type": "stream",
     "text": [
      "[1 2 3 4]\n",
      "int32\n"
     ]
    }
   ],
   "source": [
    "# now we will create an array with data type of 4 byte int:\n",
    "import numpy as np\n",
    "arr = np.array([1, 2, 3, 4], dtype='i4')\n",
    "print(arr)\n",
    "print(arr.dtype)\n"
   ]
  },
  {
   "cell_type": "code",
   "execution_count": 6,
   "id": "9b37a53e",
   "metadata": {},
   "outputs": [
    {
     "data": {
      "text/plain": [
       "\"import numpy as np\\narr = np.array(['a', '2', '3'], dtype='i')\\nprint(arr.dtype)\""
      ]
     },
     "execution_count": 6,
     "metadata": {},
     "output_type": "execute_result"
    }
   ],
   "source": [
    "# if a type is given in which the elements cannot be casted then numpy will raise error. \n",
    "# what if a value cannot be converted?\n",
    "\n",
    "'''import numpy as np\n",
    "arr = np.array(['a', '2', '3'], dtype='i')\n",
    "print(arr.dtype)'''\n"
   ]
  },
  {
   "cell_type": "code",
   "execution_count": 7,
   "id": "2040cffb",
   "metadata": {},
   "outputs": [
    {
     "name": "stdout",
     "output_type": "stream",
     "text": [
      "[1 2 3 4]\n",
      "int32\n"
     ]
    }
   ],
   "source": [
    "#Converting data type in existing array - astype()\n",
    "import numpy as np\n",
    "arr = np.array([1.1, 2.1, 3.1, 4.1])\n",
    "arr1 = arr.astype('i')\n",
    "print(arr1)\n",
    "print(arr1.dtype)"
   ]
  },
  {
   "cell_type": "code",
   "execution_count": 8,
   "id": "7308a429",
   "metadata": {},
   "outputs": [
    {
     "name": "stdout",
     "output_type": "stream",
     "text": [
      "[ True False  True]\n",
      "bool\n"
     ]
    }
   ],
   "source": [
    "#Converting data type from integer to boolean\n",
    "import numpy as np\n",
    "arr = np.array([1, 0, 3])\n",
    "arr1 = arr.astype(bool)\n",
    "print(arr1)\n",
    "print(arr1.dtype)"
   ]
  }
 ],
 "metadata": {
  "kernelspec": {
   "display_name": "Python 3 (ipykernel)",
   "language": "python",
   "name": "python3"
  },
  "language_info": {
   "codemirror_mode": {
    "name": "ipython",
    "version": 3
   },
   "file_extension": ".py",
   "mimetype": "text/x-python",
   "name": "python",
   "nbconvert_exporter": "python",
   "pygments_lexer": "ipython3",
   "version": "3.9.13"
  }
 },
 "nbformat": 4,
 "nbformat_minor": 5
}
