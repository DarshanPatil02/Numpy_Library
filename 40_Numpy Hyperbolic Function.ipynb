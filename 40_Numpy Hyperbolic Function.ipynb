{
 "cells": [
  {
   "cell_type": "markdown",
   "id": "808ee0fb",
   "metadata": {},
   "source": [
    "### Hyperbolic function: numpy provides the ufuncs line sinh(), cosh() and tanh() that takes values in radians and produce the corresponding sinh, cosh and tanh values.\n"
   ]
  },
  {
   "cell_type": "code",
   "execution_count": 1,
   "id": "56cbdf75",
   "metadata": {},
   "outputs": [
    {
     "name": "stdout",
     "output_type": "stream",
     "text": [
      "2.3012989023072947\n"
     ]
    }
   ],
   "source": [
    "# here we will find the value of sinh of pi/2\n",
    "import numpy as np\n",
    "arr = np.sinh(np.pi/2)\n",
    "print(arr)"
   ]
  },
  {
   "cell_type": "code",
   "execution_count": 2,
   "id": "5e508383",
   "metadata": {},
   "outputs": [
    {
     "name": "stdout",
     "output_type": "stream",
     "text": [
      "[2.50917848 1.60028686 1.32460909 1.20397209]\n"
     ]
    }
   ],
   "source": [
    "# we will now find cosh values in array\n",
    "import numpy as np\n",
    "arr = np.array([np.pi/2, np.pi/3, np.pi/4, np.pi/5])\n",
    "arrnew = np.cosh(arr)\n",
    "print(arrnew)"
   ]
  },
  {
   "cell_type": "code",
   "execution_count": 3,
   "id": "c4c0d8ae",
   "metadata": {},
   "outputs": [
    {
     "name": "stdout",
     "output_type": "stream",
     "text": [
      "0.881373587019543\n"
     ]
    }
   ],
   "source": [
    "# finding angles:\n",
    "# here we can also find angles : arcsinh(), arccosh() and arctanh() that takes values in radians and produce the corresponding sinh, cosh and tanh values.\n",
    "# we will now find the angle of 1.0\n",
    "import numpy as np\n",
    "arr = np.arcsinh(1.0)\n",
    "print(arr)"
   ]
  },
  {
   "cell_type": "code",
   "execution_count": 4,
   "id": "77d30f30",
   "metadata": {},
   "outputs": [
    {
     "name": "stdout",
     "output_type": "stream",
     "text": [
      "[0.10033535 0.20273255 0.54930614]\n"
     ]
    }
   ],
   "source": [
    "# angles of each tanh values in an array:\n",
    "import numpy as np\n",
    "arr = np.array([0.1, 0.2, 0.5])\n",
    "arrnew = np.arctanh(arr)\n",
    "print(arrnew)"
   ]
  }
 ],
 "metadata": {
  "kernelspec": {
   "display_name": "Python 3 (ipykernel)",
   "language": "python",
   "name": "python3"
  },
  "language_info": {
   "codemirror_mode": {
    "name": "ipython",
    "version": 3
   },
   "file_extension": ".py",
   "mimetype": "text/x-python",
   "name": "python",
   "nbconvert_exporter": "python",
   "pygments_lexer": "ipython3",
   "version": "3.9.13"
  }
 },
 "nbformat": 4,
 "nbformat_minor": 5
}
