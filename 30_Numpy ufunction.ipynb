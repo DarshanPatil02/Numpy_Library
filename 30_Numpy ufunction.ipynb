{
 "cells": [
  {
   "cell_type": "code",
   "execution_count": 1,
   "id": "6b230dfd",
   "metadata": {},
   "outputs": [],
   "source": [
    "# ufunc - stands for universal function and they are acually numpy functions that operates on the ndarray objects.\n",
    "# ufunc also takes additional arguments like, where, dtype and out.\n",
    "# vectorization - converting the iterative statements into a vector based statement."
   ]
  },
  {
   "cell_type": "code",
   "execution_count": 2,
   "id": "accdb872",
   "metadata": {},
   "outputs": [
    {
     "name": "stdout",
     "output_type": "stream",
     "text": [
      "[5, 7, 9, 11]\n"
     ]
    }
   ],
   "source": [
    "# example without ufunc, here we will use python in built zip().\n",
    "x = [1,2,3,4]\n",
    "y = [4,5,6,7]\n",
    "z= []\n",
    "for i, j in zip(x,y):\n",
    "    z.append(i+j)\n",
    "print(z)"
   ]
  },
  {
   "cell_type": "code",
   "execution_count": 3,
   "id": "f0e6c0ec",
   "metadata": {},
   "outputs": [
    {
     "name": "stdout",
     "output_type": "stream",
     "text": [
      "[ 5  7  9 11]\n"
     ]
    }
   ],
   "source": [
    "# with ufunc, we will now use add() function\n",
    "import numpy as np\n",
    "x = [1,2,3,4]\n",
    "y = [4,5,6,7]\n",
    "z = np.add(x,y)\n",
    "print(z)"
   ]
  }
 ],
 "metadata": {
  "kernelspec": {
   "display_name": "Python 3 (ipykernel)",
   "language": "python",
   "name": "python3"
  },
  "language_info": {
   "codemirror_mode": {
    "name": "ipython",
    "version": 3
   },
   "file_extension": ".py",
   "mimetype": "text/x-python",
   "name": "python",
   "nbconvert_exporter": "python",
   "pygments_lexer": "ipython3",
   "version": "3.9.13"
  }
 },
 "nbformat": 4,
 "nbformat_minor": 5
}
